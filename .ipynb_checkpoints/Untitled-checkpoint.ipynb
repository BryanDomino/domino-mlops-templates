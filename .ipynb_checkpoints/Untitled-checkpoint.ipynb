{
 "cells": [
  {
   "cell_type": "code",
   "execution_count": 1,
   "id": "89f10414-36b6-49f6-8d69-50b2f4a2d999",
   "metadata": {},
   "outputs": [],
   "source": [
    "import os\n",
    "import requests"
   ]
  },
  {
   "cell_type": "code",
   "execution_count": 2,
   "id": "069b6101-ab6b-4194-8389-f6559845296f",
   "metadata": {},
   "outputs": [],
   "source": [
    "API_KEY = os.getenv(\"DOMINO_USER_API_KEY\")\n"
   ]
  },
  {
   "cell_type": "code",
   "execution_count": 3,
   "id": "7362d3c3-0b60-41a0-87c9-98eb0bce6fed",
   "metadata": {},
   "outputs": [],
   "source": [
    "data = {\n",
    "  \"deliverableId\": \"fa0eced6-0b8a-4958-bd8d-517e36db4e50\",\n",
    "  \"policyId\": \"75656cfa-70ca-4ad8-bdcd-a7ca1ae78c33\"\n",
    "}"
   ]
  },
  {
   "cell_type": "code",
   "execution_count": 4,
   "id": "78be49b6-4e99-4dfd-92f1-b170f560f8c1",
   "metadata": {},
   "outputs": [],
   "source": [
    "response = requests.get(\"https://ykb.domino-eval.com/guardrails/v1/rpc/compute-policy\",\n",
    "    auth=(API_KEY,API_KEY),\n",
    "    json=data)"
   ]
  },
  {
   "cell_type": "code",
   "execution_count": 5,
   "id": "0e3565fb-0f6f-4570-9879-67b55a119ccb",
   "metadata": {},
   "outputs": [
    {
     "data": {
      "text/plain": [
       "<Response [404]>"
      ]
     },
     "execution_count": 5,
     "metadata": {},
     "output_type": "execute_result"
    }
   ],
   "source": [
    "response"
   ]
  },
  {
   "cell_type": "code",
   "execution_count": null,
   "id": "9c20ed7f-5af4-4ab2-992d-5ea826370069",
   "metadata": {},
   "outputs": [],
   "source": []
  }
 ],
 "metadata": {
  "kernelspec": {
   "display_name": "Python 3 (ipykernel)",
   "language": "python",
   "name": "python3"
  },
  "language_info": {
   "codemirror_mode": {
    "name": "ipython",
    "version": 3
   },
   "file_extension": ".py",
   "mimetype": "text/x-python",
   "name": "python",
   "nbconvert_exporter": "python",
   "pygments_lexer": "ipython3",
   "version": "3.10.14"
  }
 },
 "nbformat": 4,
 "nbformat_minor": 5
}
